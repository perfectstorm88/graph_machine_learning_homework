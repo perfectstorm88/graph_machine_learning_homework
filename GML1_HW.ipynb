{
 "cells": [
  {
   "cell_type": "markdown",
   "metadata": {},
   "source": [
    "<h2>Lecture 1 Written Assignment</h2>\n",
    " \n",
    "Use the Wikipedia voting network data in wiki Vote.txt.zip to complete this assignment.\n",
    "\n",
    "\n",
    "\n",
    "# 1 Understanding structural properties of networks\n",
    "Wikipedia is a free encyclopedia written collaboratively by volunteers around the world. A small\n",
    "part of Wikipedia contributors are administrators, who are users with access to additional techni\u0002cal features that aid in maintenance. In order for a user to become an administrator a Request for\n",
    "adminship (RfA) is issued and the Wikipedia community via a public discussion or a vote decides\n",
    "who to promote to adminship. Using the latest complete dump of Wikipedia page edit history\n",
    "(from January 3 2008) we extracted all administrator elections and vote history data. This gave\n",
    "us 2,794 elections with 103,663 total votes and 7,066 users participating in the elections (either\n",
    "casting a vote or being voted on). Out of these 1,235 elections resulted in a successful promotion,\n",
    "while 1,559 elections did not result in the promotion. About half of the votes in the dataset are\n",
    "by existing admins, while the other half comes from ordinary Wikipedia users.\n",
    "\n",
    "The network contains all the Wikipedia voting data from the inception of Wikipedia till Janu\u0002ary 2008. Nodes in the network represent wikipedia users and a directed edge from node i to node\n",
    "j represents that user i voted on user j.\n",
    "\n",
    "Here we formulate Wikipedia as a directed network. Formally, we consider the Wikipedia\n",
    "network as a directed graph G = (V, E), with node set V and edge set E ⊂ V × V where (edges\n",
    "are ordered pairs of nodes). An edge (a, b) ∈ E means that user a voted on user b.\n",
    "\n",
    "To complete Exercise 1, you need to submit the following two items to receive full credit for\n",
    "each sub-questions. Note that no credit will be awarded if you only submit the numeric answer\n",
    "without the code you wrote (or your code has dependency on any graph analysis packages).\n",
    "\n",
    "- **The code (preferrably in Python) to compute the structural property. Note that you need to write from scratch without referring to any existed graph analysis packages.**\n",
    "- **The numeric answer for that structural property**"
   ]
  },
  {
   "cell_type": "markdown",
   "metadata": {},
   "source": [
    "## 1.1 The number of nodes in the network.\n",
    "## 1.2 The number of directed edges in the network."
   ]
  },
  {
   "cell_type": "code",
   "execution_count": 1,
   "metadata": {},
   "outputs": [
    {
     "name": "stdout",
     "output_type": "stream",
     "text": [
      "103692\n"
     ]
    }
   ],
   "source": [
    "with open(\"./wiki-Vote.txt\", \"r\") as f:\n",
    "    data = f.readlines()\n",
    "print(len(data))"
   ]
  },
  {
   "cell_type": "code",
   "execution_count": 2,
   "metadata": {},
   "outputs": [],
   "source": [
    "data1 = [] # 构建边表\n",
    "for x in data:\n",
    "    if x.startswith('#'):\n",
    "        continue\n",
    "    v1,v2 = x.split('\\t')\n",
    "    data1.append((int(v1),int(v2)))"
   ]
  },
  {
   "cell_type": "code",
   "execution_count": 3,
   "metadata": {},
   "outputs": [
    {
     "name": "stdout",
     "output_type": "stream",
     "text": [
      "6110 2381 7115 3 8297\n"
     ]
    }
   ],
   "source": [
    "v1_set = set([x[0] for x in data1])\n",
    "v2_set = set([x[1] for x in data1])\n",
    "v_set = v1_set|v2_set\n",
    "print(len(v1_set),len(v2_set),len(v_set),min(v_set),max(v_set))"
   ]
  },
  {
   "cell_type": "code",
   "execution_count": 4,
   "metadata": {},
   "outputs": [
    {
     "name": "stdout",
     "output_type": "stream",
     "text": [
      "1.1 The number of nodes in the network.=> 7115\n",
      "1.2 The number of directed edges in the network.=> 103689\n"
     ]
    }
   ],
   "source": [
    "print('1.1 The number of nodes in the network.=>',len(v_set))\n",
    "print('1.2 The number of directed edges in the network.=>',len(data1))"
   ]
  },
  {
   "cell_type": "markdown",
   "metadata": {},
   "source": [
    "## 1.3 The number of undirected edges in the network,\n",
    "i.e., the number of unique unordered pairs(a, b), a = b, for which (a, b) ∈ E or (b, a) ∈ E (or both). If both (a, b) and (b, a) are edges,this counts a single undirected edge."
   ]
  },
  {
   "cell_type": "code",
   "execution_count": 5,
   "metadata": {},
   "outputs": [],
   "source": [
    "# 根据上述结果max(v_set) ！= len(v_set)，节点序号不能直接作为邻居矩阵索引，还需要构建一个映射关系\n",
    "v_num = len(v_set)\n",
    "v_map = dict(zip(list(v_set),range(v_num)))\n",
    "\n",
    "# 构建邻接矩阵\n",
    "import numpy as np\n",
    "m = np.zeros(shape=(v_num,v_num),dtype=np.int)\n",
    "for x in data1:\n",
    "    m[v_map[x[0]],v_map[x[1]]] = m[v_map[x[0]],v_map[x[1]]] +1 "
   ]
  },
  {
   "cell_type": "code",
   "execution_count": 6,
   "metadata": {},
   "outputs": [
    {
     "data": {
      "text/plain": [
       "array([[0, 0, 0, 0, 0, 0, 0, 0, 0, 0, 0, 0, 0, 0, 0, 0, 0, 0, 0, 0],\n",
       "       [0, 0, 0, 0, 0, 1, 0, 1, 0, 0, 0, 0, 0, 0, 0, 0, 0, 0, 0, 0],\n",
       "       [0, 0, 0, 1, 0, 1, 0, 1, 0, 0, 0, 0, 0, 0, 0, 0, 0, 0, 0, 0],\n",
       "       [1, 0, 0, 0, 0, 1, 0, 1, 0, 0, 0, 0, 0, 0, 0, 0, 1, 0, 0, 0],\n",
       "       [0, 0, 0, 1, 0, 0, 0, 0, 0, 0, 0, 0, 0, 0, 0, 0, 0, 0, 0, 0],\n",
       "       [0, 0, 0, 1, 0, 0, 0, 1, 0, 0, 0, 0, 0, 0, 0, 0, 1, 0, 0, 0],\n",
       "       [0, 0, 0, 0, 0, 1, 0, 1, 0, 0, 0, 0, 0, 0, 0, 0, 0, 0, 0, 0],\n",
       "       [1, 0, 0, 1, 0, 1, 0, 0, 0, 0, 0, 0, 0, 0, 0, 0, 1, 0, 0, 0],\n",
       "       [0, 0, 0, 1, 0, 1, 0, 1, 0, 0, 0, 0, 1, 0, 0, 0, 1, 0, 0, 0],\n",
       "       [0, 0, 0, 0, 0, 1, 0, 0, 0, 0, 0, 0, 0, 0, 0, 0, 0, 0, 0, 0],\n",
       "       [0, 0, 0, 0, 0, 0, 0, 0, 0, 0, 0, 0, 0, 0, 0, 0, 0, 0, 0, 0],\n",
       "       [1, 0, 0, 0, 0, 0, 0, 1, 0, 0, 0, 0, 0, 0, 0, 0, 0, 0, 0, 0],\n",
       "       [0, 0, 0, 0, 0, 1, 0, 0, 0, 0, 0, 0, 0, 0, 0, 0, 0, 0, 0, 0],\n",
       "       [0, 0, 0, 0, 0, 0, 0, 0, 0, 0, 0, 0, 0, 0, 0, 0, 0, 0, 0, 0],\n",
       "       [1, 0, 0, 0, 0, 1, 0, 1, 0, 0, 0, 0, 0, 0, 0, 0, 0, 0, 0, 0],\n",
       "       [0, 0, 0, 0, 0, 0, 0, 0, 0, 0, 0, 0, 0, 0, 0, 0, 0, 0, 0, 0],\n",
       "       [1, 0, 0, 1, 0, 0, 0, 0, 0, 0, 0, 0, 0, 0, 0, 0, 0, 0, 0, 0],\n",
       "       [1, 0, 0, 1, 0, 0, 0, 0, 0, 0, 0, 0, 0, 0, 0, 0, 1, 0, 0, 0],\n",
       "       [0, 0, 0, 0, 0, 0, 0, 0, 0, 0, 0, 0, 0, 0, 0, 0, 0, 0, 0, 0],\n",
       "       [0, 0, 0, 0, 0, 0, 0, 0, 0, 0, 0, 0, 0, 0, 0, 0, 0, 0, 0, 0]])"
      ]
     },
     "execution_count": 6,
     "metadata": {},
     "output_type": "execute_result"
    }
   ],
   "source": [
    "m[:20,:20]"
   ]
  },
  {
   "cell_type": "code",
   "execution_count": 7,
   "metadata": {},
   "outputs": [
    {
     "name": "stdout",
     "output_type": "stream",
     "text": [
      "1\n"
     ]
    }
   ],
   "source": [
    "# 计算最大元素，应该等于1，否则说明重合边\n",
    "print(m.max())"
   ]
  },
  {
   "cell_type": "code",
   "execution_count": 8,
   "metadata": {},
   "outputs": [],
   "source": [
    "# 原始矩阵，与转置矩阵做加法\n",
    "m_undirected = m + m.T"
   ]
  },
  {
   "cell_type": "code",
   "execution_count": 9,
   "metadata": {},
   "outputs": [],
   "source": [
    "# 计算个数为2的个数\n",
    "# m_undirected_num = len([x for x in m_undirected.flat if x == 2 ])\n",
    "m_undirected_num = np.sum(m_undirected==2) "
   ]
  },
  {
   "cell_type": "code",
   "execution_count": 10,
   "metadata": {},
   "outputs": [
    {
     "name": "stdout",
     "output_type": "stream",
     "text": [
      "1.3 The number of undirected edges in the network=> 2927.0\n"
     ]
    }
   ],
   "source": [
    "print('1.3 The number of undirected edges in the network=>',m_undirected_num/2)"
   ]
  },
  {
   "cell_type": "markdown",
   "metadata": {},
   "source": [
    "## 1.4 The number of nodes of zero out-degree.\n",
    "## 1.5 The number of nodes of zero in-degree."
   ]
  },
  {
   "cell_type": "code",
   "execution_count": 11,
   "metadata": {},
   "outputs": [
    {
     "name": "stdout",
     "output_type": "stream",
     "text": [
      "<class 'numpy.ndarray'>\n"
     ]
    }
   ],
   "source": [
    "print(type(m))\n",
    "zero_out_degree_num = 0\n",
    "for x in m:   # 按行遍历\n",
    "    zero_out_degree_num = zero_out_degree_num + (1 if np.all(x == 0) else 0)\n",
    "\n",
    "zero_in_degree_num = 0\n",
    "for x in m.T:  # 按列遍历\n",
    "    zero_in_degree_num = zero_in_degree_num + (1 if np.all(x == 0) else 0)"
   ]
  },
  {
   "cell_type": "code",
   "execution_count": 12,
   "metadata": {},
   "outputs": [
    {
     "name": "stdout",
     "output_type": "stream",
     "text": [
      "1.4 The number of nodes of zero out-degree.==> 1005\n",
      "1.5 The number of nodes of zero in-degree.==> 4734\n"
     ]
    }
   ],
   "source": [
    "print('1.4 The number of nodes of zero out-degree.==>',zero_out_degree_num)\n",
    "print('1.5 The number of nodes of zero in-degree.==>',zero_in_degree_num)"
   ]
  },
  {
   "cell_type": "markdown",
   "metadata": {},
   "source": [
    "## 1.6 The number of nodes and edges in largest strongly connected component."
   ]
  },
  {
   "cell_type": "code",
   "execution_count": 13,
   "metadata": {},
   "outputs": [
    {
     "name": "stdout",
     "output_type": "stream",
     "text": [
      "4 [1, 2, 5, 4]\n",
      "max_scc= [1, 2, 5, 4]\n"
     ]
    }
   ],
   "source": [
    "# [全网最!详!细!Tarjan算法讲解。](https://blog.csdn.net/hurmishine/article/details/75248876)\n",
    "# [搜索（DFS）---矩阵中的连通分量数目](https://blog.csdn.net/weixin_30471065/article/details/96741037)\n",
    "import numpy as np\n",
    "m2 = np.zeros(shape=(7,7),dtype=np.int)\n",
    "m2[1,2]=1\n",
    "m2[2,3]=1\n",
    "m2[3,6]=1\n",
    "m2[2,5]=1\n",
    "m2[5,1]=1\n",
    "m2[1,4]=1\n",
    "m2[4,5]=1\n",
    "\n",
    "def find_max_scc(m):\n",
    "    max_scc = []\n",
    "    v_num = len(m)\n",
    "    dfn=[-1 for x in range(v_num)] #深度优先搜索遍历时节点i被搜索的次序\n",
    "    low=[-1 for x in range(v_num)] #节点i能够回溯到的最早位于栈中的节点。\n",
    "    stack = []\n",
    "    index=-1\n",
    "    def tarjan(u):\n",
    "        if dfn[u]>-1:\n",
    "            return\n",
    "        nonlocal index,max_scc\n",
    "        index = index+1\n",
    "        dfn[u]= index # DFN初始化后不会改变\n",
    "        low[u]= index # Low会找最小的\n",
    "        stack.append(u)\n",
    "        for j in range(v_num):\n",
    "            if m[u,j]==0:\n",
    "                continue\n",
    "            if dfn[j]== -1: # 未被访问过\n",
    "                tarjan(j) \n",
    "                low[u] = min(low[u],low[j])\n",
    "            elif j in stack: # 已经在栈中,取\n",
    "                low[u] = min(low[u],dfn[j])\n",
    "                \n",
    "        if dfn[u] == low[u]:# 若相等,说明u是强连通图的跟节点\n",
    "            ind_ = stack.index(u)\n",
    "            scc = stack[ind_:]\n",
    "            del stack[ind_:]\n",
    "            if len(scc) > 1:\n",
    "                print(len(scc),scc[:10])\n",
    "            if len(scc)>len(max_scc):\n",
    "                max_scc = scc\n",
    "    for i in range(len(m)):\n",
    "        if not np.all(m[i,:] == 0):\n",
    "            tarjan(i)\n",
    "    return max_scc\n",
    "\n",
    "max_scc = find_max_scc(m2)    \n",
    "print('max_scc=',max_scc)"
   ]
  },
  {
   "cell_type": "code",
   "execution_count": 14,
   "metadata": {},
   "outputs": [
    {
     "name": "stdout",
     "output_type": "stream",
     "text": [
      "1300 [0, 25, 3, 5, 7, 16, 20, 26, 30, 35]\n",
      "find_max_scc,use 35.12025856971741\n"
     ]
    }
   ],
   "source": [
    "import time\n",
    "start = time.time()\n",
    "max_scc = find_max_scc(m) \n",
    "print(f'find_max_scc,use {time.time()-start}')"
   ]
  },
  {
   "cell_type": "code",
   "execution_count": 15,
   "metadata": {},
   "outputs": [],
   "source": [
    "m_max_scc = m[np.ix_(max_scc,max_scc)] # 获取submatrix，https://stackoverflow.com/questions/19161512/numpy-extract-submatrix\n",
    "v_num = len(m_max_scc)\n",
    "e_num = m_max_scc.sum()"
   ]
  },
  {
   "cell_type": "code",
   "execution_count": 16,
   "metadata": {},
   "outputs": [
    {
     "name": "stdout",
     "output_type": "stream",
     "text": [
      "1.6 The number of nodes and edges in largest strongly connected component.==> 1300 39456\n"
     ]
    }
   ],
   "source": [
    "print('1.6 The number of nodes and edges in largest strongly connected component.==>',v_num,e_num)"
   ]
  },
  {
   "cell_type": "markdown",
   "metadata": {},
   "source": [
    "## 1.7 The number of nodes and edges in largest weakly connected component."
   ]
  },
  {
   "cell_type": "code",
   "execution_count": 17,
   "metadata": {},
   "outputs": [
    {
     "name": "stdout",
     "output_type": "stream",
     "text": [
      "6 [1, 2, 3, 6, 5, 4]\n"
     ]
    },
    {
     "data": {
      "text/plain": [
       "[1, 2, 3, 6, 5, 4]"
      ]
     },
     "execution_count": 17,
     "metadata": {},
     "output_type": "execute_result"
    }
   ],
   "source": [
    "def find_max_wcc(m):\n",
    "    max_wcc = []\n",
    "    m_ = m + m.T  # 转换为无向图\n",
    "    v_num = len(m_)\n",
    "    dfn=[-1]*v_num \n",
    "    stack = []\n",
    "    def dfs(u): #深度优先搜索\n",
    "        if dfn[u]>-1:\n",
    "            return\n",
    "        dfn[u]= 1\n",
    "        stack.append(u)\n",
    "        for j in range(v_num):\n",
    "            if m_[u,j]==0: # 没有边相连\n",
    "                continue\n",
    "            if dfn[j]== -1: # 未被访问过，做深度搜索\n",
    "                dfs(j)      \n",
    "    \n",
    "    for i in range(len(m_)):\n",
    "        dfs(i) # 每个点都尝试执行一次dfs函数，确保没有遗漏\n",
    "        if len(stack)>2:\n",
    "            if len(stack)>len(max_wcc):\n",
    "                max_wcc = stack[:]\n",
    "            print(len(stack),stack[:10])\n",
    "        stack.clear()\n",
    "    return max_wcc\n",
    "\n",
    "find_max_wcc(m2)"
   ]
  },
  {
   "cell_type": "code",
   "execution_count": 18,
   "metadata": {},
   "outputs": [
    {
     "name": "stdout",
     "output_type": "stream",
     "text": [
      "7066 [0, 3, 2, 5, 1, 7, 6, 20, 8, 12]\n",
      "3 [6132, 6134, 6133]\n",
      "3 [6472, 6474, 6473]\n",
      "3 [6935, 6937, 6936]\n",
      "find_max_wcc,use 34.83310270309448\n"
     ]
    }
   ],
   "source": [
    "start = time.time()\n",
    "max_wcc = find_max_wcc(m)\n",
    "print(f'find_max_wcc,use {time.time()-start}')"
   ]
  },
  {
   "cell_type": "code",
   "execution_count": 19,
   "metadata": {},
   "outputs": [],
   "source": [
    "m_max_wcc = m[np.ix_(max_wcc,max_wcc)] # 获取submatrix，https://stackoverflow.com/questions/19161512/numpy-extract-submatrix\n",
    "v_num = len(m_max_wcc)\n",
    "e_num = m_max_wcc.sum()"
   ]
  },
  {
   "cell_type": "code",
   "execution_count": 20,
   "metadata": {},
   "outputs": [
    {
     "name": "stdout",
     "output_type": "stream",
     "text": [
      "1.7 The number of nodes and edges in largest weakly connected component.==> 7066 103663\n"
     ]
    }
   ],
   "source": [
    "print('1.7 The number of nodes and edges in largest weakly connected component.==>',v_num,e_num)"
   ]
  },
  {
   "cell_type": "markdown",
   "metadata": {},
   "source": [
    "## 1.8 Average clustering coefficient."
   ]
  },
  {
   "cell_type": "code",
   "execution_count": 21,
   "metadata": {},
   "outputs": [
    {
     "name": "stdout",
     "output_type": "stream",
     "text": [
      "1.8 Average clustering coefficient..==> 0.14089784589308743\n",
      "clust_cf,use 2.532590389251709\n"
     ]
    }
   ],
   "source": [
    "def clust_cf(m):\n",
    "    m_ = m + m.T  # 转换为无向图\n",
    "    m_[m_>1]=1    # 无向图中相连的边用1表示\n",
    "    def node_clust_cf(u):\n",
    "        neighber_nodes = np.where(m_[u,:]==1)[0]\n",
    "        k = len(neighber_nodes) # 计算相邻节点的个数\n",
    "        if k <=1:\n",
    "            return 0\n",
    "        e = np.sum(m_[np.ix_(neighber_nodes,neighber_nodes)])/2 # 相邻节点组成的子图，边的个数\n",
    "        c = 2*e/(k*(k-1)) \n",
    "        return c\n",
    "        \n",
    "    total_clust_cf = 0  \n",
    "    for i in range(len(m_)):\n",
    "        total_clust_cf += node_clust_cf(i)\n",
    "    \n",
    "    return total_clust_cf/len(m_)\n",
    "\n",
    "start = time.time()\n",
    "print('1.8 Average clustering coefficient..==>',clust_cf(m))\n",
    "print(f'clust_cf,use {time.time()-start}')"
   ]
  },
  {
   "cell_type": "markdown",
   "metadata": {},
   "source": [
    "# 2 Using Snap.py to replicate computing structural proper\u0002ties of networks\n",
    "Snap.py is a python interface for SNAP, which is C++ implemented, a general purpose, high\n",
    "performance system for analysis and manipulation of large networks.\n",
    "## 2.1 Installation\n",
    "Follow the installation instructions https://snap.stanford.edu/snappy/ to install Snap.py to\n",
    "your environment. Attach a screenshot of successfully installing and running Snap.py on your\n",
    "machine."
   ]
  },
  {
   "cell_type": "markdown",
   "metadata": {},
   "source": [
    "![](./image/snap_install.jpg)"
   ]
  },
  {
   "cell_type": "markdown",
   "metadata": {},
   "source": [
    "## 2.2 Tutorial\n",
    "Follow the tutorial https://snap.stanford.edu/snappy/doc/tutorial/index-tut.html to fa\u0002miliarize yourself with Snap.py, in particular how to use it to perform various operations on graphs\n",
    "as we discuss in lecture. Note: full documentation can be found in https://snap.stanford.edu/snappy/doc/reference/index-ref.html. Then answer the following pop-quizzy questions:\n",
    "\n",
    "- What’s the SNAP Type for a vector of integers?\n",
    "- What’s the SNAP Type for an undirected graph?\n",
    "\n"
   ]
  },
  {
   "cell_type": "code",
   "execution_count": 22,
   "metadata": {},
   "outputs": [
    {
     "name": "stdout",
     "output_type": "stream",
     "text": [
      "What’s the SNAP Type for a vector of integers?==> TIntV\n",
      "What’s the SNAP Type for an undirected graph?==> TUNGraph\n"
     ]
    }
   ],
   "source": [
    "print(\"What’s the SNAP Type for a vector of integers?==>\",'TIntV')\n",
    "print(\"What’s the SNAP Type for an undirected graph?==>\",'TUNGraph')"
   ]
  },
  {
   "cell_type": "markdown",
   "metadata": {},
   "source": [
    "## 2.3 Replicate what’ve done in Exercise 1 with Snap.py\n",
    "Redo Exercise 1.1 - 1.8 with Snap.py.\n",
    "To receive full credit for this exercise, you need to submit the following two items. Note that\n",
    "no credit will be awarded if you only submit the numeric answer without the code you wrote.\n",
    "- The Snap.py code you wrote to compute the structural property.\n",
    "- The numeric answer for that structural property. A hint for sanity check: your\n",
    "answer from Exercise 1 should be the same as Exercise 2."
   ]
  },
  {
   "cell_type": "code",
   "execution_count": 23,
   "metadata": {},
   "outputs": [],
   "source": [
    "import snap\n",
    "G5 = snap.LoadEdgeList(snap.PNGraph, \"wiki-Vote.txt\", 0, 1)"
   ]
  },
  {
   "cell_type": "code",
   "execution_count": 24,
   "metadata": {},
   "outputs": [
    {
     "name": "stdout",
     "output_type": "stream",
     "text": [
      "The number of nodes in the network.=> 7115\n",
      "The number of directed edges in the network.=> 103689\n"
     ]
    }
   ],
   "source": [
    "print('The number of nodes in the network.=>',G5.GetNodes())\n",
    "print('The number of directed edges in the network.=>',G5.GetEdges())"
   ]
  },
  {
   "cell_type": "code",
   "execution_count": 25,
   "metadata": {},
   "outputs": [
    {
     "name": "stdout",
     "output_type": "stream",
     "text": [
      "1.3 The number of undirected edges in the network 2927\n"
     ]
    }
   ],
   "source": [
    "print('1.3 The number of undirected edges in the network',snap.CntUniqBiDirEdges(G5))"
   ]
  },
  {
   "cell_type": "code",
   "execution_count": 26,
   "metadata": {},
   "outputs": [
    {
     "name": "stdout",
     "output_type": "stream",
     "text": [
      "1.4 The number of nodes of zero out-degree.==> 1005\n",
      "1.5 The number of nodes of zero in-degree.==> 4734\n"
     ]
    }
   ],
   "source": [
    "print('1.4 The number of nodes of zero out-degree.==>',snap.CntOutDegNodes(G5, 0))\n",
    "print('1.5 The number of nodes of zero in-degree.==>',snap.CntInDegNodes(G5, 0))"
   ]
  },
  {
   "cell_type": "code",
   "execution_count": 27,
   "metadata": {},
   "outputs": [
    {
     "name": "stdout",
     "output_type": "stream",
     "text": [
      "snap.GetMxScc,use 0.055680274963378906\n",
      "1.6 The number of nodes and edges in largest strongly connected component.==> 1300 39456\n"
     ]
    }
   ],
   "source": [
    "\n",
    "start = time.time()\n",
    "MxScc = snap.GetMxScc(G5) \n",
    "print(f'snap.GetMxScc,use {time.time()-start}')\n",
    "print('1.6 The number of nodes and edges in largest strongly connected component.==>',MxScc.GetNodes(),MxScc.GetEdges())"
   ]
  },
  {
   "cell_type": "code",
   "execution_count": 28,
   "metadata": {},
   "outputs": [
    {
     "name": "stdout",
     "output_type": "stream",
     "text": [
      "snap.GetMxWcc,use 0.05742073059082031\n",
      "1.7 The number of nodes and edges in largest weakly connected component.==> 7066 103663\n"
     ]
    }
   ],
   "source": [
    "start = time.time()\n",
    "MxWcc = snap.GetMxWcc(G5)\n",
    "print(f'snap.GetMxWcc,use {time.time()-start}')\n",
    "print('1.7 The number of nodes and edges in largest weakly connected component.==>',MxWcc.GetNodes(),MxWcc.GetEdges())"
   ]
  },
  {
   "cell_type": "code",
   "execution_count": 29,
   "metadata": {},
   "outputs": [
    {
     "name": "stdout",
     "output_type": "stream",
     "text": [
      "snap.GetMxWcc,use 0.7443840503692627\n",
      "[0.14089784589308724, 608389, 12720413] <class 'list'>\n",
      "1.8 Average clustering coefficient.==> 0.14089784589308724\n"
     ]
    }
   ],
   "source": [
    "start = time.time()\n",
    "CfVec = snap.TFltPrV()\n",
    "Cf = snap.GetClustCf(G5, CfVec, -1)\n",
    "print(f'snap.GetMxWcc,use {time.time()-start}')\n",
    "print(Cf,type(Cf))\n",
    "print(\"1.8 Average clustering coefficient.==>\",Cf[0])"
   ]
  }
 ],
 "metadata": {
  "kernelspec": {
   "display_name": "Python 3",
   "language": "python",
   "name": "python3"
  },
  "language_info": {
   "codemirror_mode": {
    "name": "ipython",
    "version": 3
   },
   "file_extension": ".py",
   "mimetype": "text/x-python",
   "name": "python",
   "nbconvert_exporter": "python",
   "pygments_lexer": "ipython3",
   "version": "3.7.7"
  },
  "toc": {
   "base_numbering": 1,
   "nav_menu": {},
   "number_sections": true,
   "sideBar": true,
   "skip_h1_title": false,
   "title_cell": "Table of Contents",
   "title_sidebar": "Contents",
   "toc_cell": false,
   "toc_position": {},
   "toc_section_display": true,
   "toc_window_display": false
  }
 },
 "nbformat": 4,
 "nbformat_minor": 2
}

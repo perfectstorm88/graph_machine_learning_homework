{
 "cells": [
  {
   "cell_type": "markdown",
   "metadata": {},
   "source": [
    "# 1 PageRank Formulation\n",
    "Consider a directed graph G = (V, E):\n",
    "\n",
    "with V = {1, 2, 3, 4, 5}, and E = {(1, 2),(1, 3),(2, 1),(2, 3),(3, 4),(3, 5),(4, 5),(5, 4)}."
   ]
  },
  {
   "cell_type": "markdown",
   "metadata": {},
   "source": [
    "## (a) 给出G的邻接矩阵，及对应的列随机矩阵M\n",
    "Write down the adjacency matrix of graph G and its corresponding column\n",
    "stochastic matrix M discussed in lecture."
   ]
  },
  {
   "cell_type": "code",
   "execution_count": 1,
   "metadata": {},
   "outputs": [
    {
     "data": {
      "text/plain": [
       "array([[0, 1, 0, 0, 0],\n",
       "       [1, 0, 0, 0, 0],\n",
       "       [1, 1, 0, 0, 0],\n",
       "       [0, 0, 1, 0, 1],\n",
       "       [0, 0, 1, 1, 0]])"
      ]
     },
     "execution_count": 1,
     "metadata": {},
     "output_type": "execute_result"
    }
   ],
   "source": [
    "E = {(1, 2),(1, 3),(2, 1),(2, 3),(3, 4),(3, 5),(4, 5),(5, 4)}\n",
    "import numpy as np\n",
    "# M0表示邻接矩阵,Mij 表示 j指向i\n",
    "M0 = np.zeros(shape=(5,5),dtype=np.int)\n",
    "for edge in E:\n",
    "    M0[edge[1]-1,edge[0]-1]=1\n",
    "    \n",
    "M0"
   ]
  },
  {
   "cell_type": "code",
   "execution_count": 2,
   "metadata": {},
   "outputs": [
    {
     "data": {
      "text/plain": [
       "array([2, 2, 2, 1, 1])"
      ]
     },
     "execution_count": 2,
     "metadata": {},
     "output_type": "execute_result"
    }
   ],
   "source": [
    "# 每个节点的出度\n",
    "outlinks = np.sum(M0,axis=0)#\n",
    "outlinks"
   ]
  },
  {
   "cell_type": "code",
   "execution_count": 3,
   "metadata": {},
   "outputs": [
    {
     "data": {
      "text/plain": [
       "array([[0. , 0.5, 0. , 0. , 0. ],\n",
       "       [0.5, 0. , 0. , 0. , 0. ],\n",
       "       [0.5, 0.5, 0. , 0. , 0. ],\n",
       "       [0. , 0. , 0.5, 0. , 1. ],\n",
       "       [0. , 0. , 0.5, 1. , 0. ]])"
      ]
     },
     "execution_count": 3,
     "metadata": {},
     "output_type": "execute_result"
    }
   ],
   "source": [
    "# M表示列随机矩阵，Mij 表示 j指向i 时的转移概率\n",
    "# 参考[Numpy：如何用向量元素除以每一行？](https://cloud.tencent.com/developer/ask/72998),此处用的是用向量元素除以每一列\n",
    "M = M0/outlinks[None,:] \n",
    "M"
   ]
  },
  {
   "cell_type": "markdown",
   "metadata": {},
   "source": [
    "## (b) 假设随机跳转概率(1-b)为0.2，写出计算G的pagerank的公式\n",
    "Set up the equations to compute pagerank for G. Assume that the probability\n",
    "of teleport is 0.2."
   ]
  },
  {
   "cell_type": "code",
   "execution_count": 4,
   "metadata": {},
   "outputs": [
    {
     "data": {
      "text/plain": [
       "array([0.2, 0.2, 0.2, 0.2, 0.2])"
      ]
     },
     "execution_count": 4,
     "metadata": {},
     "output_type": "execute_result"
    }
   ],
   "source": [
    "b = 0.8 # teleport is 0.2.\n",
    "N = len(M0) # 节点的格式\n",
    "r = np.ones(shape=(N,),dtype=np.float)/N # 初始化r = 1/N\n",
    "r"
   ]
  },
  {
   "cell_type": "code",
   "execution_count": 5,
   "metadata": {},
   "outputs": [
    {
     "name": "stdout",
     "output_type": "stream",
     "text": [
      "0 ,r= [0.12 0.12 0.2  0.28 0.28]\n",
      "1 ,r= [0.088 0.088 0.136 0.344 0.344]\n",
      "2 ,r= [0.0752 0.0752 0.1104 0.3696 0.3696]\n",
      "3 ,r= [0.07008 0.07008 0.10016 0.37984 0.37984]\n",
      "4 ,r= [0.068032 0.068032 0.096064 0.383936 0.383936]\n",
      "5 ,r= [0.0672128 0.0672128 0.0944256 0.3855744 0.3855744]\n",
      "6 ,r= [0.06688512 0.06688512 0.09377024 0.38622976 0.38622976]\n",
      "7 ,r= [0.06675405 0.06675405 0.0935081  0.3864919  0.3864919 ]\n",
      "8 ,r= [0.06670162 0.06670162 0.09340324 0.38659676 0.38659676]\n",
      "9 ,r= [0.06668065 0.06668065 0.0933613  0.3866387  0.3866387 ]\n",
      "10 ,r= [0.06667226 0.06667226 0.09334452 0.38665548 0.38665548]\n",
      "11 ,r= [0.0666689  0.0666689  0.09333781 0.38666219 0.38666219]\n",
      "12 ,r= [0.06666756 0.06666756 0.09333512 0.38666488 0.38666488]\n",
      "sucess!\n"
     ]
    },
    {
     "data": {
      "text/plain": [
       "array([0.06666702, 0.06666702, 0.09333405, 0.38666595, 0.38666595])"
      ]
     },
     "execution_count": 5,
     "metadata": {},
     "output_type": "execute_result"
    }
   ],
   "source": [
    "e = 0.000001\n",
    "for i in range(50):\n",
    "    r_old = r[:]\n",
    "#     print('r_old[:]=',r_old)\n",
    "    # r = b * M*r + (1-b)/N \n",
    "    r=  b* np.dot(M,r) + (1-b)/N\n",
    "    if np.sum(np.abs(r-r_old))<0.00001:\n",
    "        print('sucess!')\n",
    "        break\n",
    "    print(i,',r=',r)\n",
    "r"
   ]
  },
  {
   "cell_type": "markdown",
   "metadata": {},
   "source": [
    "## (c)  假设主题子集为{1,2},重新计算pagerank\n",
    "Set up the equations for topic-specific pagerank for the same graph, with teleport\n",
    "set {1, 2}. Solve the equations and compute the rank vector."
   ]
  },
  {
   "cell_type": "code",
   "execution_count": 6,
   "metadata": {},
   "outputs": [
    {
     "data": {
      "text/plain": [
       "array([[0.5, 0.5, 0.5, 0.5, 0.5],\n",
       "       [0.5, 0.5, 0.5, 0.5, 0.5],\n",
       "       [0. , 0. , 0. , 0. , 0. ],\n",
       "       [0. , 0. , 0. , 0. , 0. ],\n",
       "       [0. , 0. , 0. , 0. , 0. ]])"
      ]
     },
     "execution_count": 6,
     "metadata": {},
     "output_type": "execute_result"
    }
   ],
   "source": [
    "s=[1,2]\n",
    "S = np.zeros(shape=(N,N),dtype=np.float)\n",
    "for i in s:\n",
    "    S[i-1,:]=1\n",
    "S = S/len(s)\n",
    "S"
   ]
  },
  {
   "cell_type": "code",
   "execution_count": 7,
   "metadata": {},
   "outputs": [
    {
     "data": {
      "text/plain": [
       "array([[0.1, 0.5, 0.1, 0.1, 0.1],\n",
       "       [0.5, 0.1, 0.1, 0.1, 0.1],\n",
       "       [0.4, 0.4, 0. , 0. , 0. ],\n",
       "       [0. , 0. , 0.4, 0. , 0.8],\n",
       "       [0. , 0. , 0.4, 0.8, 0. ]])"
      ]
     },
     "execution_count": 7,
     "metadata": {},
     "output_type": "execute_result"
    }
   ],
   "source": [
    "A=b*M+(1-b)*S\n",
    "A"
   ]
  },
  {
   "cell_type": "code",
   "execution_count": 8,
   "metadata": {},
   "outputs": [
    {
     "name": "stdout",
     "output_type": "stream",
     "text": [
      "0 ,r= [0.18 0.18 0.16 0.24 0.24] 1.0\n",
      "1 ,r= [0.172 0.172 0.144 0.256 0.256] 1.0\n",
      "2 ,r= [0.1688 0.1688 0.1376 0.2624 0.2624] 1.0\n",
      "3 ,r= [0.16752 0.16752 0.13504 0.26496 0.26496] 1.0000000000000002\n",
      "4 ,r= [0.167008 0.167008 0.134016 0.265984 0.265984] 1.0000000000000002\n",
      "5 ,r= [0.1668032 0.1668032 0.1336064 0.2663936 0.2663936] 1.0000000000000004\n",
      "6 ,r= [0.16672128 0.16672128 0.13344256 0.26655744 0.26655744] 1.0000000000000004\n",
      "7 ,r= [0.16668851 0.16668851 0.13337702 0.26662298 0.26662298] 1.0000000000000002\n",
      "8 ,r= [0.1666754  0.1666754  0.13335081 0.26664919 0.26664919] 1.0000000000000004\n",
      "9 ,r= [0.16667016 0.16667016 0.13334032 0.26665968 0.26665968] 1.0000000000000002\n",
      "10 ,r= [0.16666806 0.16666806 0.13333613 0.26666387 0.26666387] 1.0000000000000002\n",
      "sucess!\n"
     ]
    }
   ],
   "source": [
    "# 带有主题的pagerank计算方法\n",
    "r = np.ones(shape=(N,),dtype=np.float)/N # 初始化r = 1/N\n",
    "e = 0.000001\n",
    "for i in range(50):\n",
    "    r_old = r[:]\n",
    "    r= np.dot(A,r)\n",
    "    if np.sum(np.abs(r-r_old))<0.00001:\n",
    "        print('sucess!')\n",
    "        break\n",
    "    print(i,',r=',r,r.sum())"
   ]
  },
  {
   "cell_type": "markdown",
   "metadata": {},
   "source": [
    "## (d) 给出5对（S，v）的示例，其中S⊆V和v∈V，v对于子集S的pagerank为0。解释原因\n",
    "Give 5 examples of pairs (S, v), where S ⊆ V and v ∈ V , such that the topic specific pagerank of v for the teleport set S is equal to 0. Explain why these values are equal to 0.\n",
    "\n"
   ]
  },
  {
   "cell_type": "markdown",
   "metadata": {},
   "source": [
    "所有的有向图都可以看做由强连通分量组成的DAG图\n",
    "\n",
    "![x](./image/GML_HW2_SSC_DAG.jpg)\n",
    "\n",
    "根据spider trap 和dead end的样例，若v对于子集S的pagerank为0,则S作为强联通分量到v节点(或v节点所在的强连通分量)没有路径，存在如下样例\n",
    "\n",
    "- S={4,5},v=3\n",
    "- S={4,5},v=1\n",
    "- S={4,5},v=2\n",
    "- S={3,4,5},v=2\n",
    "- S={3,4,5},v=1"
   ]
  },
  {
   "cell_type": "markdown",
   "metadata": {},
   "source": [
    "# 2 Dead ends in PageRank computation\n",
    "Let the matrix of the Web M be an n-by-n matrix, where n is the number of\n",
    "Web pages. The entry $m_{ij}$ in row i and column j is 0, unless there is an arc\n",
    "from node (page) j to node i. In that case, the value of $m_{ij}$ is $\\frac{1}{k}$\n",
    ", where k is the\n",
    "number of arcs (links) out of node j. Notice that if node j has k > 0 arcs out,\n",
    "then column j has k values of $\\frac{1}{k}$\n",
    "and the rest 0’s. If node j is a dead end (i.e.,\n",
    "it has zero arcs out), then column j is all 0’s.\n",
    "\n",
    "Let $r = [r_1, r_2, ..., r_n]^T$ be (an estimate of) the PageRank vector; that is, $r_i$\n",
    "is the estimate of the PageRank of node i. Define $\\boldsymbol{r}$ to be the sum of the\n",
    "components of $\\boldsymbol{r}$; that is $w(\\boldsymbol{r}) = \\sum_{i=1}^{n}{r_i}$.\n",
    "\n",
    "In one iteration of the PageRank algorithm, we compute the next estimate\n",
    "$r'$ of the PageRank as: $r'  = M\\boldsymbol{r}$. Specifically, for each i we compute \n",
    "$r_i' = \\sum_{j=1}^{n}{M_{ij}r_j}$ . Define $w(r')$  to be the sum of components of r; that is\n",
    "$w(r') = \\sum_{i=1}^{n}{r’_i}$\n",
    ". You may use D (the set of dead nodes) in your equation."
   ]
  },
  {
   "cell_type": "markdown",
   "metadata": {},
   "source": [
    "## (a)\n",
    "Suppose the Web has no dead ends. Prove that $w(r') = w(r)$."
   ]
  },
  {
   "cell_type": "markdown",
   "metadata": {},
   "source": [
    "**证明过程如下:**\n",
    "\n",
    "已知：\n",
    "\n",
    "$$ r_i' = \\sum_{j=1}^{n}{M_{ij}r_j} $$\n",
    "\n",
    "同时根据列随机矩阵M的定义，可以得出：\n",
    "$$ \\sum_{i=1}^{n}{M_{ij}} = 1   $$ \n",
    "\n",
    "则\n",
    "\n",
    "$$ \\begin{aligned}\n",
    "w(r') &= \\sum_{i=1}^{n}{r'_i}  \\\\\n",
    "&= \\sum_{i=1}^{n} \\sum_{j=1}^{n}{M_{ij}r_j} \\\\\n",
    "&= \\sum_{j=1}^{n} \\sum_{i=1}^{n} {M_{ij}r_j} \\\\\n",
    "&= \\sum_{j=1}^{n}r_j  \\\\\n",
    "& = w(r) \\\\ \n",
    "\\end{aligned}$$  "
   ]
  },
  {
   "cell_type": "markdown",
   "metadata": {},
   "source": [
    "## (b)\n",
    "Suppose there are still no dead ends, but we use a teleport probability of 1-\n",
    "β, where 0 < β < 1. The expression for the next estimate of $r_i$  becomes\n",
    "$$r_i' = \\beta\\sum_{j=1}^{n}{M_{ij}r_j}+\\frac{(1-\\beta)}{n}$$\n",
    "Under what circumstances will $w(r') = w(r)$.?\n",
    "Prove your conclusion.\n"
   ]
  },
  {
   "cell_type": "markdown",
   "metadata": {},
   "source": [
    "**证明过程如下:**\n",
    "\n",
    "已知： $$r_i' = \\beta \\sum_{j=1}^{n}{M_{ij}r_j} + \\frac {(1- \\beta)}{n} $$\n",
    "\n",
    "则\n",
    "\n",
    "$$ \n",
    "\\begin{aligned}\n",
    "w(r') &= \\sum_{i=1}^{n}{r'_i} \\\\\n",
    "&= \\sum_{i=1}^{n} \\left(\\beta \\sum_{j=1}^{n}{M_{ij}r_j} + \\frac {(1- \\beta)}{n} \\right) \\\\\n",
    "&= \\beta \\sum_{i=1}^{n} \\sum_{j=1}^{n}{M_{ij}r_j} + \\sum_{i=1}^{n} \\frac {(1- \\beta)}{n}  \\\\\n",
    "&= \\beta w(r)  + (1- \\beta) \n",
    "\\end{aligned}\n",
    "$$ \n",
    "\n",
    "如果 $w(r') = w(r)$ 等式成立，带入上面式子得：\n",
    "\n",
    "$$ \n",
    "\\begin{aligned}\n",
    "w(r) &= \\beta w(r)  + (1- \\beta)  \\\\\n",
    "w(r) &=1 \n",
    "\\end{aligned}\n",
    "$$"
   ]
  },
  {
   "cell_type": "markdown",
   "metadata": {},
   "source": [
    "## (c)\n",
    "Now, let us assume a teleportation probability of 1-β in addition to the fact that\n",
    "there are one or more dead ends. Call a node dead if it is a dead end and live if\n",
    "not. Assume w(r) = 1. At each iteration, each live node j distributes $(1-\\beta)\\frac {r_j}{n}$\n",
    "PageRank to each of the other nodes, and each dead node j distributes $\\frac {r_j}{n}$\n",
    "PageRank to each of the other nodes.\n",
    "Write the equation for $r'_i$\n",
    "in terms of β, M, r, n, andD (where D is the set of\n",
    "dead nodes). Then, prove that w(r') is also 1."
   ]
  },
  {
   "cell_type": "markdown",
   "metadata": {},
   "source": [
    "**证明过程如下:**\n",
    "\n",
    "$r'_i$的表达式如下：\n",
    "\n",
    "$$r_i' = \\beta \\sum_{j=1}^{j\\not\\in D}{M_{ij}r_j} + \\sum_{j=1}^{j\\not\\in D}(1-\\beta)\\frac {r_j}{n} +  \\sum_{j=1}^{j\\in D}\\frac {r_j}{n}$$\n",
    "\n",
    "\n",
    "同时根据列随机矩阵M的定义，可以得出：\n",
    "$$ \\sum_{i=1}^{n}{M_{ij}} = 1   $$ \n",
    "\n",
    "则w(r') 的证明如下：\n",
    "\n",
    "$$ \n",
    "\\begin{aligned}\n",
    "w(r') &= \\sum_{i=1}^{n}{r'_i} \\\\\n",
    "&= \\sum_{i=1}^{n} \\left( \\beta \\sum_{j=1}^{j\\not\\in D}{M_{ij}r_j} + \\sum_{j=1}^{j\\not\\in D}(1-\\beta)\\frac {r_j}{n} +  \\sum_{j=1}^{j\\in D}\\frac {r_j}{n} \\right) \\\\\n",
    "&= \\beta \\sum_{i=1}^{n} \\sum_{j=1}^{j\\not\\in D}{M_{ij}r_j} + (1-\\beta)\\sum_{i=1}^{n} \\sum_{j=1}^{j\\not\\in D}\\frac {r_j}{n} +  \\sum_{i=1}^{n} \\sum_{j=1}^{j\\in D}\\frac {r_j}{n}  \\\\\n",
    "&= \\beta \\sum_{j=1}^{j\\not\\in D}\\sum_{i=1}^{n} {M_{ij}r_j} + (1-\\beta) \\sum_{j=1}^{j\\not\\in D}\\sum_{i=1}^{n} \\frac {r_j}{n} + \\sum_{j=1}^{j\\in D}\\sum_{i=1}^{n} \\frac {r_j}{n}   \\\\\n",
    "&= \\beta \\sum_{j=1}^{j\\not\\in D}r_j + (1-\\beta) \\sum_{j=1}^{j\\not\\in D}  {r_j} + \\sum_{j=1}^{j\\in D}{r_j}  \\\\\n",
    "&= \\sum_{j=1}^{j\\not\\in D}r_j + \\sum_{j=1}^{j\\in D}{r_j}  \\\\\n",
    "&= \\sum_{j=1}r_j \\\\\n",
    "&= w(r) \\\\\n",
    "&= 1  \\\\\n",
    "\\end{aligned}\n",
    "$$ "
   ]
  }
 ],
 "metadata": {
  "kernelspec": {
   "display_name": "Python 3.7.4 64-bit ('base': conda)",
   "language": "python",
   "name": "python37464bitbaseconda12ed994832c2414a9c454e09192fa9bf"
  },
  "language_info": {
   "codemirror_mode": {
    "name": "ipython",
    "version": 3
   },
   "file_extension": ".py",
   "mimetype": "text/x-python",
   "name": "python",
   "nbconvert_exporter": "python",
   "pygments_lexer": "ipython3",
   "version": "3.7.4"
  },
  "toc": {
   "base_numbering": 1,
   "nav_menu": {},
   "number_sections": true,
   "sideBar": true,
   "skip_h1_title": false,
   "title_cell": "Table of Contents",
   "title_sidebar": "Contents",
   "toc_cell": false,
   "toc_position": {},
   "toc_section_display": true,
   "toc_window_display": false
  }
 },
 "nbformat": 4,
 "nbformat_minor": 2
}

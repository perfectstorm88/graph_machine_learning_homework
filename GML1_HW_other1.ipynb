{
 "cells": [
  {
   "cell_type": "code",
   "execution_count": 2,
   "metadata": {},
   "outputs": [
    {
     "name": "stdout",
     "output_type": "stream",
     "text": [
      "The number of nodes in the network is 7115\n",
      "The number of directed edges in the network is  103689\n"
     ]
    }
   ],
   "source": [
    "import pandas as pd\n",
    "import os\n",
    "import numpy as np\n",
    "\n",
    "data_df = pd.read_csv(os.path.join('.','wiki-Vote.txt'),sep='\t', header=None, skiprows =3)\n",
    "\n",
    "data_array =np.array(data_df,dtype=int)\n",
    "\n",
    "node_list = np.unique(data_array)\n",
    "print('The number of nodes in the network is %d' % len(node_list))\n",
    "print('The number of directed edges in the network is  %d' % len(data_array))"
   ]
  },
  {
   "cell_type": "markdown",
   "metadata": {},
   "source": [
    "点评:挺简洁，赞！"
   ]
  },
  {
   "cell_type": "code",
   "execution_count": 3,
   "metadata": {},
   "outputs": [
    {
     "data": {
      "text/plain": [
       "array([[  30, 1412],\n",
       "       [  30, 3352],\n",
       "       [  30, 5254],\n",
       "       ...,\n",
       "       [8150, 8275],\n",
       "       [8150, 8276],\n",
       "       [8274, 8275]])"
      ]
     },
     "execution_count": 3,
     "metadata": {},
     "output_type": "execute_result"
    }
   ],
   "source": [
    "data_array"
   ]
  },
  {
   "cell_type": "code",
   "execution_count": 4,
   "metadata": {},
   "outputs": [
    {
     "data": {
      "text/plain": [
       "array([   3,    4,    5, ..., 8295, 8296, 8297])"
      ]
     },
     "execution_count": 4,
     "metadata": {},
     "output_type": "execute_result"
    }
   ],
   "source": [
    "node_list"
   ]
  },
  {
   "cell_type": "code",
   "execution_count": 5,
   "metadata": {},
   "outputs": [
    {
     "name": "stdout",
     "output_type": "stream",
     "text": [
      "The number of undirected edges in the network  2927\n"
     ]
    }
   ],
   "source": [
    "out_list = list(np.unique(data_array[:,0]))\n",
    "\n",
    "undirected_edges = 0\n",
    "for i in out_list:\n",
    "    in_tmp_array = data_array[data_array[:,0] ==i,1]\n",
    "    for j in in_tmp_array:\n",
    "        out_in_tmp_array = data_array[data_array[:,0] ==j]\n",
    "        undirected_edges += np.sum(out_in_tmp_array[:,1]==i)\n",
    "    \n",
    "print('The number of undirected edges in the network  %d' % int(undirected_edges/2))"
   ]
  },
  {
   "cell_type": "markdown",
   "metadata": {},
   "source": [
    "**点评:计算双向边的效率真是差，正常的做法时间复杂最多O(n^2),你这个代码为O(n^3),研究了下才明白，之所以绕一次去判断i=j并且j=i，是因为没有按点构建索引导致，**"
   ]
  },
  {
   "cell_type": "code",
   "execution_count": 6,
   "metadata": {},
   "outputs": [
    {
     "name": "stdout",
     "output_type": "stream",
     "text": [
      "The number of nodes of zero out-degree in the network is 1005\n",
      "The number of nodes of zero in-degree in the network is 4734\n"
     ]
    }
   ],
   "source": [
    "in_list = list(np.unique(data_array[:,1]))\n",
    "zero_in_note,zero_out_note = 0,0\n",
    "for i in in_list:\n",
    "    if np.sum(data_array[:,0] ==i) == 0:\n",
    "       zero_out_note +=1\n",
    "for i in out_list:\n",
    "    if np.sum(data_array[:,1] ==i) == 0:\n",
    "       zero_in_note +=1\n",
    "       \n",
    "print('The number of nodes of zero out-degree in the network is %d' % zero_out_note)\n",
    "print('The number of nodes of zero in-degree in the network is %d' % zero_in_note)"
   ]
  },
  {
   "cell_type": "markdown",
   "metadata": {},
   "source": [
    "**点评:既然用了np.unique的方法，计算入库为零和出度为零可以更简单，total-len(out_list)就是出度为零，total-len(in_list)就是入度为零**"
   ]
  },
  {
   "cell_type": "code",
   "execution_count": 11,
   "metadata": {},
   "outputs": [],
   "source": [
    "def array_to_adjacency_list(data_array):\n",
    "    out_list = np.unique(data_array[:,0])\n",
    "    adjacency_list = dict()\n",
    "    for i in out_list:\n",
    "        in_tmp_array = data_array[data_array[:,0] ==i,1]\n",
    "        set_array = set(in_tmp_array)\n",
    "        adjacency_list.update({i:set_array})\n",
    "    return adjacency_list\n",
    "    \n",
    "adjacency_list = array_to_adjacency_list(data_array)"
   ]
  },
  {
   "cell_type": "code",
   "execution_count": 12,
   "metadata": {},
   "outputs": [
    {
     "ename": "KeyError",
     "evalue": "7",
     "output_type": "error",
     "traceback": [
      "\u001b[0;31m---------------------------------------------------------------------------\u001b[0m",
      "\u001b[0;31mKeyError\u001b[0m                                  Traceback (most recent call last)",
      "\u001b[0;32m<ipython-input-12-9b884a2643a1>\u001b[0m in \u001b[0;36m<module>\u001b[0;34m\u001b[0m\n\u001b[1;32m     48\u001b[0m         \u001b[0msccs\u001b[0m\u001b[0;34m.\u001b[0m\u001b[0mappend\u001b[0m\u001b[0;34m(\u001b[0m\u001b[0mC\u001b[0m\u001b[0;34m)\u001b[0m\u001b[0;34m\u001b[0m\u001b[0;34m\u001b[0m\u001b[0m\n\u001b[1;32m     49\u001b[0m     \u001b[0;32mreturn\u001b[0m \u001b[0msccs\u001b[0m\u001b[0;34m\u001b[0m\u001b[0;34m\u001b[0m\u001b[0m\n\u001b[0;32m---> 50\u001b[0;31m \u001b[0mscc_data\u001b[0m \u001b[0;34m=\u001b[0m \u001b[0mscc\u001b[0m\u001b[0;34m(\u001b[0m\u001b[0madjacency_list\u001b[0m\u001b[0;34m)\u001b[0m\u001b[0;34m\u001b[0m\u001b[0;34m\u001b[0m\u001b[0m\n\u001b[0m\u001b[1;32m     51\u001b[0m \u001b[0mscc_len_list\u001b[0m \u001b[0;34m=\u001b[0m \u001b[0;34m[\u001b[0m\u001b[0mlen\u001b[0m\u001b[0;34m(\u001b[0m\u001b[0mx\u001b[0m\u001b[0;34m)\u001b[0m \u001b[0;32mfor\u001b[0m \u001b[0mx\u001b[0m \u001b[0;32min\u001b[0m \u001b[0mscc_data\u001b[0m\u001b[0;34m]\u001b[0m\u001b[0;34m\u001b[0m\u001b[0;34m\u001b[0m\u001b[0m\n\u001b[1;32m     52\u001b[0m \u001b[0;32mdef\u001b[0m \u001b[0msum_set\u001b[0m\u001b[0;34m(\u001b[0m\u001b[0mdict_c\u001b[0m\u001b[0;34m)\u001b[0m\u001b[0;34m:\u001b[0m\u001b[0;34m\u001b[0m\u001b[0;34m\u001b[0m\u001b[0m\n",
      "\u001b[0;32m<ipython-input-12-9b884a2643a1>\u001b[0m in \u001b[0;36mscc\u001b[0;34m(G)\u001b[0m\n\u001b[1;32m     44\u001b[0m     \u001b[0;32mfor\u001b[0m \u001b[0mu\u001b[0m \u001b[0;32min\u001b[0m \u001b[0mrec_dfs\u001b[0m\u001b[0;34m(\u001b[0m\u001b[0mG\u001b[0m\u001b[0;34m,\u001b[0m\u001b[0;36m30\u001b[0m\u001b[0;34m)\u001b[0m\u001b[0;34m:\u001b[0m    \u001b[0;31m#以30为起点\u001b[0m\u001b[0;34m\u001b[0m\u001b[0;34m\u001b[0m\u001b[0m\n\u001b[1;32m     45\u001b[0m         \u001b[0;32mif\u001b[0m \u001b[0mu\u001b[0m \u001b[0;32min\u001b[0m \u001b[0mseen\u001b[0m\u001b[0;34m:\u001b[0m\u001b[0;32mcontinue\u001b[0m\u001b[0;34m\u001b[0m\u001b[0;34m\u001b[0m\u001b[0m\n\u001b[0;32m---> 46\u001b[0;31m         \u001b[0mC\u001b[0m \u001b[0;34m=\u001b[0m \u001b[0mwalk\u001b[0m\u001b[0;34m(\u001b[0m\u001b[0mGT\u001b[0m\u001b[0;34m,\u001b[0m\u001b[0mu\u001b[0m\u001b[0;34m,\u001b[0m\u001b[0mseen\u001b[0m\u001b[0;34m)\u001b[0m\u001b[0;34m\u001b[0m\u001b[0;34m\u001b[0m\u001b[0m\n\u001b[0m\u001b[1;32m     47\u001b[0m         \u001b[0mseen\u001b[0m\u001b[0;34m.\u001b[0m\u001b[0mupdate\u001b[0m\u001b[0;34m(\u001b[0m\u001b[0mC\u001b[0m\u001b[0;34m)\u001b[0m\u001b[0;34m\u001b[0m\u001b[0;34m\u001b[0m\u001b[0m\n\u001b[1;32m     48\u001b[0m         \u001b[0msccs\u001b[0m\u001b[0;34m.\u001b[0m\u001b[0mappend\u001b[0m\u001b[0;34m(\u001b[0m\u001b[0mC\u001b[0m\u001b[0;34m)\u001b[0m\u001b[0;34m\u001b[0m\u001b[0;34m\u001b[0m\u001b[0m\n",
      "\u001b[0;32m<ipython-input-12-9b884a2643a1>\u001b[0m in \u001b[0;36mwalk\u001b[0;34m(G, start, S)\u001b[0m\n\u001b[1;32m     32\u001b[0m     \u001b[0;32mwhile\u001b[0m \u001b[0mQ\u001b[0m\u001b[0;34m:\u001b[0m\u001b[0;34m\u001b[0m\u001b[0;34m\u001b[0m\u001b[0m\n\u001b[1;32m     33\u001b[0m         \u001b[0mu\u001b[0m \u001b[0;34m=\u001b[0m \u001b[0mQ\u001b[0m\u001b[0;34m.\u001b[0m\u001b[0mpop\u001b[0m\u001b[0;34m(\u001b[0m\u001b[0;34m)\u001b[0m                      \u001b[0;31m#选择下一个遍历节点（随机性）\u001b[0m\u001b[0;34m\u001b[0m\u001b[0;34m\u001b[0m\u001b[0m\n\u001b[0;32m---> 34\u001b[0;31m         \u001b[0;32mfor\u001b[0m \u001b[0mv\u001b[0m \u001b[0;32min\u001b[0m \u001b[0mG\u001b[0m\u001b[0;34m[\u001b[0m\u001b[0mu\u001b[0m\u001b[0;34m]\u001b[0m\u001b[0;34m.\u001b[0m\u001b[0mdifference\u001b[0m\u001b[0;34m(\u001b[0m\u001b[0mP\u001b[0m\u001b[0;34m,\u001b[0m\u001b[0mS\u001b[0m\u001b[0;34m)\u001b[0m\u001b[0;34m:\u001b[0m         \u001b[0;31m#返回差集\u001b[0m\u001b[0;34m\u001b[0m\u001b[0;34m\u001b[0m\u001b[0m\n\u001b[0m\u001b[1;32m     35\u001b[0m             \u001b[0mQ\u001b[0m\u001b[0;34m.\u001b[0m\u001b[0madd\u001b[0m\u001b[0;34m(\u001b[0m\u001b[0mv\u001b[0m\u001b[0;34m)\u001b[0m\u001b[0;34m\u001b[0m\u001b[0;34m\u001b[0m\u001b[0m\n\u001b[1;32m     36\u001b[0m             \u001b[0mP\u001b[0m\u001b[0;34m[\u001b[0m\u001b[0mv\u001b[0m\u001b[0;34m]\u001b[0m \u001b[0;34m=\u001b[0m \u001b[0mu\u001b[0m\u001b[0;34m\u001b[0m\u001b[0;34m\u001b[0m\u001b[0m\n",
      "\u001b[0;31mKeyError\u001b[0m: 7"
     ]
    }
   ],
   "source": [
    "def re_tr(G):#翻转图\n",
    "    GT = {}\n",
    "    for u in G:\n",
    "        for v in G[u]:\n",
    "            # print(GT)\n",
    "            if GT.get(v):\n",
    "                GT[v].add(u)\n",
    "            else:\n",
    "                GT[v] = set()\n",
    "                GT[v].add(u)\n",
    "\n",
    "    return GT\n",
    "    \n",
    "def rec_dfs(G,s,S=None):#递归实现深度优先排序\n",
    "    if S is None:\n",
    "        #S = set()    #集合存储已经遍历过的节点\n",
    "        S = list()    #用列表可以更方便查看遍历的次序，而用集合可以方便用difference求差集\n",
    "    # S.add(s)\n",
    "    S.append(s)\n",
    "    #print(S)\n",
    "    for u in G[s]:\n",
    "        if u in S:continue\n",
    "#         if u in G:\n",
    "        rec_dfs(G,u,S)\n",
    "    return S\n",
    "\n",
    "#遍历有向图的强连通分量\n",
    "def walk(G,start,S=set()):     #传入的参数S，即上面的seen很关键，这避免了通过连通图之间的路径进行遍历\n",
    "    P,Q = dict(),set()      #list存放遍历顺序，set存放已经遍历过的节点     \n",
    "    P[start] = None\n",
    "    Q.add(start)\n",
    "    while Q:\n",
    "        u = Q.pop()                      #选择下一个遍历节点（随机性）\n",
    "        for v in G[u].difference(P,S):         #返回差集\n",
    "            Q.add(v)\n",
    "            P[v] = u\n",
    "    #print(P)    \n",
    "    return P\n",
    "    \n",
    "\n",
    "def scc(G):#获得各个强连通图\n",
    "    GT = re_tr(G)\n",
    "    sccs,seen = [],set()\n",
    "    for u in rec_dfs(G,30):    #以30为起点\n",
    "        if u in seen:continue\n",
    "        C = walk(GT,u,seen)\n",
    "        seen.update(C)\n",
    "        sccs.append(C)\n",
    "    return sccs\n",
    "# scc_data = scc(adjacency_list)\n",
    "scc_len_list = [len(x) for x in scc_data]\n",
    "def sum_set(dict_c):\n",
    "    sum_c = 0\n",
    "    for x in dict_c:\n",
    "        sum_c += len(dict_c[x])\n",
    "        \n",
    "scc_edge_list = [sum_set(x) for x in scc_data]\n",
    "                \n",
    "print('The number of nodes and edges in largest strongly connected component is %d, %d' % \\\n",
    "      (np.max(scc_len_list),np.max(scc_edge_list)))"
   ]
  }
 ],
 "metadata": {
  "kernelspec": {
   "display_name": "Python 3",
   "language": "python",
   "name": "python3"
  },
  "language_info": {
   "codemirror_mode": {
    "name": "ipython",
    "version": 3
   },
   "file_extension": ".py",
   "mimetype": "text/x-python",
   "name": "python",
   "nbconvert_exporter": "python",
   "pygments_lexer": "ipython3",
   "version": "3.7.7"
  }
 },
 "nbformat": 4,
 "nbformat_minor": 4
}
